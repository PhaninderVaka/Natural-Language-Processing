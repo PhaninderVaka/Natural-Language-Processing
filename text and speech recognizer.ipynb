{
 "cells": [
  {
   "cell_type": "code",
   "execution_count": 1,
   "id": "761a0146-80ec-4a63-993a-f5b7d6a32758",
   "metadata": {},
   "outputs": [],
   "source": [
    "from tkinter import *\n",
    "from tkinter.messagebox import showinfo\n",
    "from gtts import gTTS\n",
    "import speech_recognition as sr\n",
    "import os"
   ]
  },
  {
   "cell_type": "code",
   "execution_count": 2,
   "id": "528beded-6920-4a90-a2b3-b9a9186de6a3",
   "metadata": {},
   "outputs": [],
   "source": [
    "mainwindow= Tk()\n",
    "mainwindow.title('Text-To-Speech and Speech-To-Text Converter')\n",
    "mainwindow.geometry('500x500')\n",
    "mainwindow.resizable(0, 0)\n",
    "mainwindow.configure(bg='blue')"
   ]
  },
  {
   "cell_type": "code",
   "execution_count": 3,
   "id": "61a07b12-d342-4336-ba0f-2eb87dcf842a",
   "metadata": {},
   "outputs": [],
   "source": [
    "def say(text1):\n",
    "     language = 'en'\n",
    "     speech = gTTS(text = text1, lang = language, slow = False)\n",
    "     speech.save(\"text.mp3\")\n",
    "     os.system(\"start text.mp3\")\n",
    " \n",
    "def recordvoice():\n",
    "    while True:\n",
    "        r = sr.Recognizer()\n",
    "        with sr.Microphone() as source:\n",
    "            audio=r.listen(source)\n",
    "            try:    \n",
    "                text1 = r.recognize_google(audio,language=\"en-IN\")\n",
    "            except:\n",
    "                pass\n",
    "            return text1"
   ]
  },
  {
   "cell_type": "code",
   "execution_count": null,
   "id": "bc7d1456-8788-464b-ab20-1958940977eb",
   "metadata": {},
   "outputs": [],
   "source": [
    "def TextToSpeech():\n",
    "    texttospeechwindow = Toplevel(mainwindow)\n",
    "    texttospeechwindow.title('Text-to-Speech Converter')\n",
    "    texttospeechwindow.geometry(\"500x500\")\n",
    "    texttospeechwindow.configure(bg='Blue')\n",
    " \n",
    "    Label(texttospeechwindow, text='Text-to-Speech Converter', font=(\"Times New Roman\", 15), bg='Blue').place(x=50)\n",
    " \n",
    "    text = Text(texttospeechwindow, height=5, width=30, font=12)\n",
    "    text.place(x=7, y=60)\n",
    "   \n",
    "    speakbutton = Button(texttospeechwindow, text='listen', bg='coral', command=lambda: say(str(text.get(1.0, END))))\n",
    "    speakbutton.place(x=140, y=200)\n",
    " \n",
    "def SpeechToText():\n",
    "    speechtotextwindow = Toplevel(mainwindow)\n",
    "    speechtotextwindow.title('Speech-to-Text Converter')\n",
    "    speechtotextwindow.geometry(\"500x500\")\n",
    "    speechtotextwindow.configure(bg='pink')\n",
    " \n",
    "    Label(speechtotextwindow, text='Speech-to-Text Converter', font=(\"Comic Sans MS\", 15), bg='IndianRed').place(x=50)\n",
    " \n",
    "    text = Text(speechtotextwindow, font=12, height=3, width=30)\n",
    "    text.place(x=7, y=100)\n",
    "   \n",
    "    recordbutton = Button(speechtotextwindow, text='Record', bg='Sienna', command=lambda: text.insert(END, recordvoice()))\n",
    "    recordbutton.place(x=140, y=50)\n",
    " \n",
    "Label(mainwindow, text='Text-To-Speech and Speech-To-Text Converter',\n",
    "     font=('Times New Roman', 16), bg='green', wrap=True, wraplength=450).place(x=25, y=0)\n",
    " \n",
    "texttospeechbutton = Button(mainwindow, text='Text-To-Speech Conversion', font=('Times New Roman', 16), bg='Red', command=TextToSpeech)\n",
    "texttospeechbutton.place(x=100, y=150)\n",
    " \n",
    "speechtotextbutton = Button(mainwindow, text='Speech-To-Text Conversion', font=('Times New Roman', 16), bg='Red', command=SpeechToText)\n",
    "speechtotextbutton.place(x=100, y=250)\n",
    " \n",
    "mainwindow.update()\n",
    "mainwindow.mainloop()"
   ]
  },
  {
   "cell_type": "code",
   "execution_count": null,
   "id": "e4aa3486-fed7-4577-824b-f8dc8d4b0101",
   "metadata": {},
   "outputs": [],
   "source": []
  }
 ],
 "metadata": {
  "kernelspec": {
   "display_name": "Python 3 (ipykernel)",
   "language": "python",
   "name": "python3"
  },
  "language_info": {
   "codemirror_mode": {
    "name": "ipython",
    "version": 3
   },
   "file_extension": ".py",
   "mimetype": "text/x-python",
   "name": "python",
   "nbconvert_exporter": "python",
   "pygments_lexer": "ipython3",
   "version": "3.9.12"
  }
 },
 "nbformat": 4,
 "nbformat_minor": 5
}
